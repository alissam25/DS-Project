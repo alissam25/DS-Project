{
 "cells": [
  {
   "cell_type": "code",
   "execution_count": 438,
   "id": "60d44937",
   "metadata": {},
   "outputs": [],
   "source": [
    "# imports and setup\n",
    "\n",
    "import numpy as np\n",
    "import pandas as pd\n",
    "\n",
    "# sklearn imports\n",
    "from sklearn import linear_model\n",
    "from sklearn import metrics\n",
    "\n",
    "# helper for logistic regression explanations\n",
    "from scipy.special import expit\n",
    "from scipy.special import logit\n",
    "\n",
    "# visualization libraries \n",
    "import matplotlib.pyplot as plt\n",
    "%matplotlib inline  \n",
    "plt.rcParams['figure.figsize'] = (10, 6)\n",
    "\n",
    "from mpl_toolkits.mplot3d import Axes3D\n",
    "from matplotlib import cm\n",
    "from matplotlib.colors import ListedColormap\n",
    "\n",
    "from sklearn.preprocessing import LabelEncoder\n",
    "from pandas.api.types import is_string_dtype\n",
    "from sklearn.model_selection import train_test_split\n",
    "from sklearn.preprocessing import StandardScaler, MinMaxScaler\n",
    "%matplotlib inline\n"
   ]
  },
  {
   "cell_type": "code",
   "execution_count": 439,
   "id": "9a50b276",
   "metadata": {},
   "outputs": [],
   "source": [
    "df1=pd.read_csv(r'C:\\Users\\aliss\\DS-Project\\WINEDATA_CLEAN.csv')\n",
    "df=df1.copy()\n"
   ]
  },
  {
   "cell_type": "code",
   "execution_count": 440,
   "id": "2221ea9b",
   "metadata": {},
   "outputs": [],
   "source": [
    "df=df1.copy()\n",
    "lb = LabelEncoder()\n",
    "for i in df:\n",
    "    if is_string_dtypepe(df[i]):\n",
    "        df[i]=lb.fit_transform(df[i])"
   ]
  },
  {
   "cell_type": "code",
   "execution_count": 441,
   "id": "d976d2ab",
   "metadata": {},
   "outputs": [],
   "source": [
    "TRAINING_FEATURES = df.columns[df.columns != 'Price Range']\n",
    "TARGET_FEATURE = 'Price Range'\n",
    "\n",
    "X = df[TRAINING_FEATURES]\n",
    "y = df[TARGET_FEATURE]\n"
   ]
  },
  {
   "cell_type": "code",
   "execution_count": 451,
   "id": "4be1e5e8",
   "metadata": {},
   "outputs": [
    {
     "name": "stdout",
     "output_type": "stream",
     "text": [
      "Initial amount of samples: #30796\n",
      "Number of training samples: #24636\n",
      "Number of test samples: #6160\n",
      "\n",
      "Target distribution in original dataset:\n",
      "2    9667\n",
      "3    8345\n",
      "0    6756\n",
      "1    5419\n",
      "4     609\n",
      "Name: Price Range, dtype: int64\n",
      "\n",
      "Target distribution in the training set:\n",
      "2    7730\n",
      "3    6699\n",
      "0    5411\n",
      "1    4325\n",
      "4     471\n",
      "Name: Price Range, dtype: int64\n",
      "\n",
      "Target distribution in the test set:\n",
      "2    1937\n",
      "3    1646\n",
      "0    1345\n",
      "1    1094\n",
      "4     138\n",
      "Name: Price Range, dtype: int64\n"
     ]
    }
   ],
   "source": [
    "X_train, X_test, y_train, y_test = train_test_split(X, y, test_size=0.2, random_state=42)\n",
    "\n",
    "print(\"Initial amount of samples: #{}\".format(X.shape[0]))\n",
    "print(\"Number of training samples: #{}\".format(X_train.shape[0]))\n",
    "print(\"Number of test samples: #{}\".format(X_test.shape[0]))\n",
    "\n",
    "print(\"\\nTarget distribution in original dataset:\\n{}\".format(y.value_counts()))\n",
    "print(\"\\nTarget distribution in the training set:\\n{}\\n\".format(y_train.value_counts()))\n",
    "print(\"Target distribution in the test set:\\n{}\".format(y_test.value_counts()))"
   ]
  },
  {
   "cell_type": "code",
   "execution_count": 443,
   "id": "5fdf2f13",
   "metadata": {},
   "outputs": [],
   "source": [
    "scaler = StandardScaler()\n",
    "X_train_scaled = scaler.fit_transform(X_train)"
   ]
  },
  {
   "cell_type": "code",
   "execution_count": 444,
   "id": "5a1c88ea",
   "metadata": {},
   "outputs": [],
   "source": [
    "X_test_scaled = scaler.transform(X_test)\n"
   ]
  },
  {
   "cell_type": "code",
   "execution_count": 445,
   "id": "c5b98c7b",
   "metadata": {},
   "outputs": [],
   "source": [
    "min_max_scaler = MinMaxScaler(feature_range=(0, 1))\n",
    "X_train_scaled_in_range = min_max_scaler.fit_transform(X_train)\n",
    "X_test_scaled_in_range = min_max_scaler.transform(X_test)"
   ]
  },
  {
   "cell_type": "code",
   "execution_count": 446,
   "id": "067908cb",
   "metadata": {},
   "outputs": [],
   "source": [
    "clf_model = LogisticRegression().fit(X_train, y_train)"
   ]
  },
  {
   "cell_type": "code",
   "execution_count": 447,
   "id": "fe6c8fec",
   "metadata": {},
   "outputs": [],
   "source": [
    "y_pred=clf_model.predict(X_test)"
   ]
  },
  {
   "cell_type": "code",
   "execution_count": 448,
   "id": "f825d4d6",
   "metadata": {},
   "outputs": [
    {
     "data": {
      "text/html": [
       "<div>\n",
       "<style scoped>\n",
       "    .dataframe tbody tr th:only-of-type {\n",
       "        vertical-align: middle;\n",
       "    }\n",
       "\n",
       "    .dataframe tbody tr th {\n",
       "        vertical-align: top;\n",
       "    }\n",
       "\n",
       "    .dataframe thead th {\n",
       "        text-align: right;\n",
       "    }\n",
       "</style>\n",
       "<table border=\"1\" class=\"dataframe\">\n",
       "  <thead>\n",
       "    <tr style=\"text-align: right;\">\n",
       "      <th></th>\n",
       "      <th>Actual</th>\n",
       "      <th>Predicted</th>\n",
       "      <th>correct</th>\n",
       "    </tr>\n",
       "  </thead>\n",
       "  <tbody>\n",
       "    <tr>\n",
       "      <th>24342</th>\n",
       "      <td>2</td>\n",
       "      <td>2</td>\n",
       "      <td>1</td>\n",
       "    </tr>\n",
       "    <tr>\n",
       "      <th>2240</th>\n",
       "      <td>2</td>\n",
       "      <td>2</td>\n",
       "      <td>1</td>\n",
       "    </tr>\n",
       "    <tr>\n",
       "      <th>11448</th>\n",
       "      <td>0</td>\n",
       "      <td>0</td>\n",
       "      <td>1</td>\n",
       "    </tr>\n",
       "    <tr>\n",
       "      <th>27247</th>\n",
       "      <td>2</td>\n",
       "      <td>3</td>\n",
       "      <td>0</td>\n",
       "    </tr>\n",
       "    <tr>\n",
       "      <th>24080</th>\n",
       "      <td>2</td>\n",
       "      <td>3</td>\n",
       "      <td>0</td>\n",
       "    </tr>\n",
       "    <tr>\n",
       "      <th>...</th>\n",
       "      <td>...</td>\n",
       "      <td>...</td>\n",
       "      <td>...</td>\n",
       "    </tr>\n",
       "    <tr>\n",
       "      <th>18363</th>\n",
       "      <td>0</td>\n",
       "      <td>0</td>\n",
       "      <td>1</td>\n",
       "    </tr>\n",
       "    <tr>\n",
       "      <th>14163</th>\n",
       "      <td>2</td>\n",
       "      <td>0</td>\n",
       "      <td>1</td>\n",
       "    </tr>\n",
       "    <tr>\n",
       "      <th>22103</th>\n",
       "      <td>2</td>\n",
       "      <td>3</td>\n",
       "      <td>0</td>\n",
       "    </tr>\n",
       "    <tr>\n",
       "      <th>7934</th>\n",
       "      <td>3</td>\n",
       "      <td>3</td>\n",
       "      <td>1</td>\n",
       "    </tr>\n",
       "    <tr>\n",
       "      <th>18326</th>\n",
       "      <td>2</td>\n",
       "      <td>2</td>\n",
       "      <td>1</td>\n",
       "    </tr>\n",
       "  </tbody>\n",
       "</table>\n",
       "<p>6160 rows × 3 columns</p>\n",
       "</div>"
      ],
      "text/plain": [
       "       Actual  Predicted  correct\n",
       "24342       2          2        1\n",
       "2240        2          2        1\n",
       "11448       0          0        1\n",
       "27247       2          3        0\n",
       "24080       2          3        0\n",
       "...       ...        ...      ...\n",
       "18363       0          0        1\n",
       "14163       2          0        1\n",
       "22103       2          3        0\n",
       "7934        3          3        1\n",
       "18326       2          2        1\n",
       "\n",
       "[6160 rows x 3 columns]"
      ]
     },
     "execution_count": 448,
     "metadata": {},
     "output_type": "execute_result"
    }
   ],
   "source": [
    "resDF=pd.DataFrame({\"Actual\":y_test,\"Predicted\":y_pred})\n",
    "\n",
    "resDF[\"correct\"]=abs((resDF[\"Actual\"]^resDF[\"Predicted\"])-1)\n",
    "resDF[resDF[\"correct\"]==1]\n",
    "resDF"
   ]
  },
  {
   "cell_type": "code",
   "execution_count": 449,
   "id": "8f9ae375",
   "metadata": {},
   "outputs": [
    {
     "name": "stdout",
     "output_type": "stream",
     "text": [
      "correct: 4774\n",
      "total: 6160\n",
      "correctly Predicted: 0.775 %\n"
     ]
    }
   ],
   "source": [
    "print(\"correct:\",len(resDF[resDF[\"correct\"]==1]))\n",
    "print(\"total:\",len(resDF))\n",
    "\n",
    "print(\"correctly Predicted:\",len(resDF[resDF[\"correct\"]==1])/len(resDF),'%')\n"
   ]
  },
  {
   "cell_type": "code",
   "execution_count": 450,
   "id": "128fe842",
   "metadata": {},
   "outputs": [
    {
     "name": "stdout",
     "output_type": "stream",
     "text": [
      "0.9193833645660947\n",
      "       Actual  Predicted  correct\n",
      "24342       2          2        1\n",
      "2240        2          2        1\n",
      "11448       0          0        1\n",
      "11505       2          2        1\n",
      "1247        3          3        1\n",
      "...       ...        ...      ...\n",
      "20379       0          0        1\n",
      "18363       0          0        1\n",
      "14163       2          0        1\n",
      "7934        3          3        1\n",
      "18326       2          2        1\n",
      "\n",
      "[4774 rows x 3 columns]\n"
     ]
    }
   ],
   "source": [
    "clf1 = GaussianNB()\n",
    "y_pred = clf1.fit(X_train, y_train).predict(X_test)\n",
    "print(f1_score(y_test,y_pred,average='macro'))\n",
    "print(resDF[resDF[\"correct\"]==1])\n"
   ]
  },
  {
   "cell_type": "code",
   "execution_count": null,
   "id": "29c1a1e7",
   "metadata": {},
   "outputs": [],
   "source": []
  },
  {
   "cell_type": "code",
   "execution_count": null,
   "id": "9f291e8e",
   "metadata": {},
   "outputs": [],
   "source": []
  },
  {
   "cell_type": "code",
   "execution_count": null,
   "id": "e7982212",
   "metadata": {},
   "outputs": [],
   "source": []
  }
 ],
 "metadata": {
  "kernelspec": {
   "display_name": "Python 3 (ipykernel)",
   "language": "python",
   "name": "python3"
  },
  "language_info": {
   "codemirror_mode": {
    "name": "ipython",
    "version": 3
   },
   "file_extension": ".py",
   "mimetype": "text/x-python",
   "name": "python",
   "nbconvert_exporter": "python",
   "pygments_lexer": "ipython3",
   "version": "3.9.7"
  }
 },
 "nbformat": 4,
 "nbformat_minor": 5
}
